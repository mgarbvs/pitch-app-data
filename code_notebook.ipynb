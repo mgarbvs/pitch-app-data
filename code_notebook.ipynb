{
 "cells": [
  {
   "cell_type": "code",
   "execution_count": 1,
   "id": "played-ultimate",
   "metadata": {},
   "outputs": [
    {
     "name": "stdout",
     "output_type": "stream",
     "text": [
      "This is a large query, it may take a moment to complete\n"
     ]
    },
    {
     "name": "stderr",
     "output_type": "stream",
     "text": [
      "\r",
      "  0%|                                                                                                                                                                        | 0/1421 [00:00<?, ?it/s]"
     ]
    },
    {
     "name": "stdout",
     "output_type": "stream",
     "text": [
      "Skipping offseason dates\n",
      "Skipping offseason dates\n",
      "Skipping offseason dates\n",
      "Skipping offseason dates\n",
      "Skipping offseason dates\n",
      "Skipping offseason dates\n",
      "Skipping offseason dates\n",
      "Skipping offseason dates\n"
     ]
    },
    {
     "name": "stderr",
     "output_type": "stream",
     "text": [
      "100%|█████████████████████████████████████████████████████████████████████████████████████████████████████████████████████████████████████████████████████████████| 1421/1421 [06:20<00:00,  3.73it/s]\n"
     ]
    }
   ],
   "source": [
    "import pybaseball\n",
    "import numpy as np\n",
    "import pandas as pd\n",
    "from pybaseball import statcast\n",
    "from pybaseball import statcast_pitcher\n",
    "\n",
    "full_data = statcast(start_dt='2015-02-25', end_dt='2021-11-30') \n",
    "\n",
    "left_handed_throwers = full_data[full_data['p_throws'] == 'L'][['game_date','player_name','pitcher']].value_counts().reset_index().drop(columns = 0)\n",
    "left_handed_throwers.to_csv('left_handed_throwers.csv')\n",
    "\n",
    "right_handed_throwers = full_data[full_data['p_throws'] == 'R'][['game_date','player_name','pitcher']].value_counts().reset_index().drop(columns = 0)\n",
    "right_handed_throwers.to_csv('right_handed_throwers.csv')"
   ]
  }
 ],
 "metadata": {
  "kernelspec": {
   "display_name": "Python 3",
   "language": "python",
   "name": "python3"
  },
  "language_info": {
   "codemirror_mode": {
    "name": "ipython",
    "version": 3
   },
   "file_extension": ".py",
   "mimetype": "text/x-python",
   "name": "python",
   "nbconvert_exporter": "python",
   "pygments_lexer": "ipython3",
   "version": "3.8.5"
  }
 },
 "nbformat": 4,
 "nbformat_minor": 5
}
